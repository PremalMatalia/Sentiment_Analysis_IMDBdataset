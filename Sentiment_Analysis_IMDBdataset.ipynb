{
  "nbformat": 4,
  "nbformat_minor": 0,
  "metadata": {
    "accelerator": "GPU",
    "colab": {
      "name": "text_classification.ipynb",
      "provenance": [],
      "collapsed_sections": []
    },
    "kernelspec": {
      "display_name": "Python 3",
      "language": "python",
      "name": "python3"
    },
    "language_info": {
      "codemirror_mode": {
        "name": "ipython",
        "version": 3
      },
      "file_extension": ".py",
      "mimetype": "text/x-python",
      "name": "python",
      "nbconvert_exporter": "python",
      "pygments_lexer": "ipython3",
      "version": "3.8.5"
    }
  },
  "cells": [
    {
      "cell_type": "markdown",
      "metadata": {
        "id": "Eg62Pmz3o83v"
      },
      "source": [
        "This tutorial demonstrates text classification starting from plain text files stored on disk. You'll train a binary classifier to perform sentiment analysis on an IMDB dataset. At the end of the notebook, there is an exercise for you to try, in which you'll train a multiclass classifier to predict the tag for a programming question on Stack Overflow.\n"
      ]
    },
    {
      "cell_type": "code",
      "metadata": {
        "execution": {
          "iopub.execute_input": "2021-01-13T02:30:14.704826Z",
          "iopub.status.busy": "2021-01-13T02:30:14.704081Z",
          "iopub.status.idle": "2021-01-13T02:30:21.263242Z",
          "shell.execute_reply": "2021-01-13T02:30:21.262482Z"
        },
        "id": "8RZOuS9LWQvv"
      },
      "source": [
        "import matplotlib.pyplot as plt\n",
        "import os\n",
        "import re\n",
        "import shutil\n",
        "import string\n",
        "import tensorflow as tf\n",
        "\n",
        "from tensorflow.keras import layers, losses, preprocessing\n",
        "from tensorflow.keras.layers.experimental.preprocessing import TextVectorization"
      ],
      "execution_count": 1,
      "outputs": []
    },
    {
      "cell_type": "code",
      "metadata": {
        "execution": {
          "iopub.execute_input": "2021-01-13T02:30:21.267840Z",
          "iopub.status.busy": "2021-01-13T02:30:21.267113Z",
          "iopub.status.idle": "2021-01-13T02:30:21.271506Z",
          "shell.execute_reply": "2021-01-13T02:30:21.271979Z"
        },
        "id": "6-tTFS04dChr",
        "colab": {
          "base_uri": "https://localhost:8080/"
        },
        "outputId": "47ce0b7b-e43f-48c5-8dad-1902c31935cc"
      },
      "source": [
        "print(tf.__version__)"
      ],
      "execution_count": 2,
      "outputs": [
        {
          "output_type": "stream",
          "text": [
            "2.4.1\n"
          ],
          "name": "stdout"
        }
      ]
    },
    {
      "cell_type": "markdown",
      "metadata": {
        "id": "NBTI1bi8qdFV"
      },
      "source": [
        "## Sentiment analysis\n",
        "\n",
        "This notebook trains a sentiment analysis model to classify movie reviews as *positive* or *negative*, based on the text of the review. This is an example of *binary*—or two-class—classification, an important and widely applicable kind of machine learning problem.\n",
        "\n",
        "You'll use the [Large Movie Review Dataset](https://ai.stanford.edu/~amaas/data/sentiment/) that contains the text of 50,000 movie reviews from the [Internet Movie Database](https://www.imdb.com/). These are split into 25,000 reviews for training and 25,000 reviews for testing. The training and testing sets are *balanced*, meaning they contain an equal number of positive and negative reviews.\n"
      ]
    },
    {
      "cell_type": "markdown",
      "metadata": {
        "id": "iAsKG535pHep"
      },
      "source": [
        "### Download and explore the IMDB dataset\n",
        "\n",
        "Let's download and extract the dataset, then explore the directory structure."
      ]
    },
    {
      "cell_type": "code",
      "metadata": {
        "execution": {
          "iopub.execute_input": "2021-01-13T02:30:21.278082Z",
          "iopub.status.busy": "2021-01-13T02:30:21.276598Z",
          "iopub.status.idle": "2021-01-13T02:30:43.436231Z",
          "shell.execute_reply": "2021-01-13T02:30:43.436701Z"
        },
        "id": "k7ZYnuajVlFN",
        "colab": {
          "base_uri": "https://localhost:8080/"
        },
        "outputId": "7c77b490-ad81-473e-b537-a44221f66a0f"
      },
      "source": [
        "url = \"https://ai.stanford.edu/~amaas/data/sentiment/aclImdb_v1.tar.gz\"\n",
        "\n",
        "dataset = tf.keras.utils.get_file(\"aclImdb_v1.tar.gz\", url,\n",
        "                                    untar=True, cache_dir='.',\n",
        "                                    cache_subdir='')\n",
        "\n",
        "dataset_dir = os.path.join(os.path.dirname(dataset), 'aclImdb')"
      ],
      "execution_count": 3,
      "outputs": [
        {
          "output_type": "stream",
          "text": [
            "Downloading data from https://ai.stanford.edu/~amaas/data/sentiment/aclImdb_v1.tar.gz\n",
            "84131840/84125825 [==============================] - 4s 0us/step\n"
          ],
          "name": "stdout"
        }
      ]
    },
    {
      "cell_type": "code",
      "metadata": {
        "execution": {
          "iopub.execute_input": "2021-01-13T02:30:43.442538Z",
          "iopub.status.busy": "2021-01-13T02:30:43.441751Z",
          "iopub.status.idle": "2021-01-13T02:30:43.445229Z",
          "shell.execute_reply": "2021-01-13T02:30:43.445642Z"
        },
        "id": "355CfOvsV1pl",
        "colab": {
          "base_uri": "https://localhost:8080/"
        },
        "outputId": "d79bc87b-8c52-40b7-9733-d67bbd790f59"
      },
      "source": [
        "os.listdir(dataset_dir)"
      ],
      "execution_count": 4,
      "outputs": [
        {
          "output_type": "execute_result",
          "data": {
            "text/plain": [
              "['test', 'train', 'imdbEr.txt', 'imdb.vocab', 'README']"
            ]
          },
          "metadata": {
            "tags": []
          },
          "execution_count": 4
        }
      ]
    },
    {
      "cell_type": "code",
      "metadata": {
        "execution": {
          "iopub.execute_input": "2021-01-13T02:30:43.449619Z",
          "iopub.status.busy": "2021-01-13T02:30:43.448924Z",
          "iopub.status.idle": "2021-01-13T02:30:43.451964Z",
          "shell.execute_reply": "2021-01-13T02:30:43.452375Z"
        },
        "id": "7ASND15oXpF1",
        "colab": {
          "base_uri": "https://localhost:8080/"
        },
        "outputId": "dabc65a8-d37c-493a-e363-ceedd752bd8b"
      },
      "source": [
        "train_dir = os.path.join(dataset_dir, 'train')\n",
        "os.listdir(train_dir)"
      ],
      "execution_count": 5,
      "outputs": [
        {
          "output_type": "execute_result",
          "data": {
            "text/plain": [
              "['unsup',\n",
              " 'labeledBow.feat',\n",
              " 'pos',\n",
              " 'urls_unsup.txt',\n",
              " 'urls_pos.txt',\n",
              " 'urls_neg.txt',\n",
              " 'unsupBow.feat',\n",
              " 'neg']"
            ]
          },
          "metadata": {
            "tags": []
          },
          "execution_count": 5
        }
      ]
    },
    {
      "cell_type": "markdown",
      "metadata": {
        "id": "ysMNMI1CWDFD"
      },
      "source": [
        "The `aclImdb/train/pos` and `aclImdb/train/neg` directories contain many text files, each of which is a single movie review. Let's take a look at one of them."
      ]
    },
    {
      "cell_type": "code",
      "metadata": {
        "execution": {
          "iopub.execute_input": "2021-01-13T02:30:43.456596Z",
          "iopub.status.busy": "2021-01-13T02:30:43.455868Z",
          "iopub.status.idle": "2021-01-13T02:30:43.459144Z",
          "shell.execute_reply": "2021-01-13T02:30:43.458658Z"
        },
        "id": "R7g8hFvzWLIZ",
        "colab": {
          "base_uri": "https://localhost:8080/"
        },
        "outputId": "0d9a73ad-f75d-4c1f-dc5a-970c7739deef"
      },
      "source": [
        "sample_file = os.path.join(train_dir, 'pos/1181_9.txt')\n",
        "with open(sample_file) as f:\n",
        "  print(f.read())"
      ],
      "execution_count": 6,
      "outputs": [
        {
          "output_type": "stream",
          "text": [
            "Rachel Griffiths writes and directs this award winning short film. A heartwarming story about coping with grief and cherishing the memory of those we've loved and lost. Although, only 15 minutes long, Griffiths manages to capture so much emotion and truth onto film in the short space of time. Bud Tingwell gives a touching performance as Will, a widower struggling to cope with his wife's death. Will is confronted by the harsh reality of loneliness and helplessness as he proceeds to take care of Ruth's pet cow, Tulip. The film displays the grief and responsibility one feels for those they have loved and lost. Good cinematography, great direction, and superbly acted. It will bring tears to all those who have lost a loved one, and survived.\n"
          ],
          "name": "stdout"
        }
      ]
    },
    {
      "cell_type": "markdown",
      "metadata": {
        "id": "Mk20TEm6ZRFP"
      },
      "source": [
        "### Load the dataset\n",
        "\n",
        "Next, you will load the data off disk and prepare it into a format suitable for training. To do so, you will use the helpful [text_dataset_from_directory](https://www.tensorflow.org/api_docs/python/tf/keras/preprocessing/text_dataset_from_directory) utility, which expects a directory structure as follows.\n",
        "\n",
        "```\n",
        "main_directory/\n",
        "...class_a/\n",
        "......a_text_1.txt\n",
        "......a_text_2.txt\n",
        "...class_b/\n",
        "......b_text_1.txt\n",
        "......b_text_2.txt\n",
        "```"
      ]
    },
    {
      "cell_type": "markdown",
      "metadata": {
        "id": "nQauv38Lnok3"
      },
      "source": [
        "To prepare a dataset for binary classification, you will need two folders on disk, corresponding to `class_a` and `class_b`. These will be the positive and negative movie reviews, which can be found in  `aclImdb/train/pos` and `aclImdb/train/neg`. As the IMDB dataset contains additional folders, you will remove them before using this utility."
      ]
    },
    {
      "cell_type": "code",
      "metadata": {
        "execution": {
          "iopub.execute_input": "2021-01-13T02:30:43.463318Z",
          "iopub.status.busy": "2021-01-13T02:30:43.462644Z",
          "iopub.status.idle": "2021-01-13T02:30:44.353998Z",
          "shell.execute_reply": "2021-01-13T02:30:44.354461Z"
        },
        "id": "VhejsClzaWfl"
      },
      "source": [
        "remove_dir = os.path.join(train_dir, 'unsup')\n",
        "shutil.rmtree(remove_dir)"
      ],
      "execution_count": 7,
      "outputs": []
    },
    {
      "cell_type": "markdown",
      "metadata": {
        "id": "95kkUdRoaeMw"
      },
      "source": [
        "Next, you will use the `text_dataset_from_directory` utility to create a labeled `tf.data.Dataset`. [tf.data](https://www.tensorflow.org/guide/data) is a powerful collection of tools for working with data. \n",
        "\n",
        "When running a machine learning experiment, it is a best practice to divide your dataset into three splits: [train](https://developers.google.com/machine-learning/glossary#training_set), [validation](https://developers.google.com/machine-learning/glossary#validation_set), and [test](https://developers.google.com/machine-learning/glossary#test-set). \n",
        "\n",
        "The IMDB dataset has already been divided into train and test, but it lacks a validation set. Let's create a validation set using an 80:20 split of the training data by using the `validation_split` argument below."
      ]
    },
    {
      "cell_type": "code",
      "metadata": {
        "colab": {
          "base_uri": "https://localhost:8080/"
        },
        "id": "kt7E2TdjbMSv",
        "outputId": "aa9dc325-d79b-4ac1-f769-e5bb509e84c3"
      },
      "source": [
        "batch_size = 64\n",
        "seed       = 42\n",
        "\n",
        "raw_train_ds = tf.keras.preprocessing.text_dataset_from_directory('aclImdb/train',batch_size=batch_size,validation_split=0.2,subset='training',seed=seed)"
      ],
      "execution_count": 8,
      "outputs": [
        {
          "output_type": "stream",
          "text": [
            "Found 25000 files belonging to 2 classes.\n",
            "Using 20000 files for training.\n"
          ],
          "name": "stdout"
        }
      ]
    },
    {
      "cell_type": "markdown",
      "metadata": {
        "id": "5Y33oxOUpYkh"
      },
      "source": [
        "As you can see above, there are 25,000 examples in the training folder, of which you will use 80% (or 20,000) for training. As you will see in a moment, you can train a model by passing a dataset directly to `model.fit`. If you're new to `tf.data`, you can also iterate over the dataset and print out a few examples as follows."
      ]
    },
    {
      "cell_type": "code",
      "metadata": {
        "execution": {
          "iopub.execute_input": "2021-01-13T02:30:47.041835Z",
          "iopub.status.busy": "2021-01-13T02:30:47.040739Z",
          "iopub.status.idle": "2021-01-13T02:30:47.070661Z",
          "shell.execute_reply": "2021-01-13T02:30:47.071074Z"
        },
        "id": "51wNaPPApk1K",
        "colab": {
          "base_uri": "https://localhost:8080/"
        },
        "outputId": "1c33b530-bdb0-4380-da40-91b50c156904"
      },
      "source": [
        "for text_batch, label_batch in raw_train_ds.take(1):\n",
        "  for i in range(3):\n",
        "    print(\"Review\", text_batch.numpy()[i])\n",
        "    print(\"Label \",  label_batch.numpy()[i])"
      ],
      "execution_count": 9,
      "outputs": [
        {
          "output_type": "stream",
          "text": [
            "Review b\"First of all, I liked very much the central idea of locating the '' intruders'', Others in the fragile Self, on various levels - mainly subconscious but sometimes more allegorical. In fact the intruders are omnipresent throughout the film : in the Swiss-French border where the pretagonist leads secluded life; in the his recurring daydream and nightmare; inside his ailing body after heart transplantation.... In the last half of the film, he becomes intruder himself, returning in ancient french colony in the hope of atoning for the past. <br /><br />The overall tone is bitter rather than pathetic, full of regrets and guilts, sense of failure being more or less dominant. This is a quite grim picture of an old age, ostensibly self-dependent but hopelessly void and lonely inside. The directer composes the images more to convey passing sensations of anxiety and desire than any explicit meanings. Some of them are mesmerizing, not devoid of humor though, kind of absurdist play only somnambulist can visualize.\"\n",
            "Label  1\n",
            "Review b\"David Mamet is a very interesting and a very un-equal director. His first movie 'House of Games' was the one I liked best, and it set a series of films with characters whose perspective of life changes as they get into complicated situations, and so does the perspective of the viewer.<br /><br />So is 'Homicide' which from the title tries to set the mind of the viewer to the usual crime drama. The principal characters are two cops, one Jewish and one Irish who deal with a racially charged area. The murder of an old Jewish shop owner who proves to be an ancient veteran of the Israeli Independence war triggers the Jewish identity in the mind and heart of the Jewish detective.<br /><br />This is were the flaws of the film are the more obvious. The process of awakening is theatrical and hard to believe, the group of Jewish militants is operatic, and the way the detective eventually walks to the final violent confrontation is pathetic. The end of the film itself is Mamet-like smart, but disappoints from a human emotional perspective.<br /><br />Joe Mantegna and William Macy give strong performances, but the flaws of the story are too evident to be easily compensated.\"\n",
            "Label  0\n",
            "Review b'After Harry Reems\\' teenage girlfriend is raped by Zebbedy Colt (The Night-Walker), Reems becomes despondent and consoles himself by having sex with some lesbians. Meanwhile, Colt, who carries a cane and dresses like a magician, rapes some more women. Eventually, Reems decides to track him down and end his crime spree. Despite being shot on film and marginally nasty, it looks like any other 70\\'s porno and is ineptly executed. The rape/abuse scenes are surprisingly restrained and the attempt to cash in on \"Death Wish\" is laughable. R. Bolla (\"Cannibal Holocaust\") plays a cop. Colt, who is usually over-the-top, wigs out in a couple of scenes, but he\\'s too well behaved for my money. This roughie could have been much rougher.'\n",
            "Label  0\n"
          ],
          "name": "stdout"
        }
      ]
    },
    {
      "cell_type": "markdown",
      "metadata": {
        "id": "JWq1SUIrp1a-"
      },
      "source": [
        "Notice the reviews contain raw text (with punctuation and occasional HTML tags like `<br/>`). You will show how to handle these in the following section. \n",
        "\n",
        "The labels are 0 or 1. To see which of these correspond to positive and negative movie reviews, you can check the `class_names` property on the dataset.\n"
      ]
    },
    {
      "cell_type": "code",
      "metadata": {
        "execution": {
          "iopub.execute_input": "2021-01-13T02:30:47.075882Z",
          "iopub.status.busy": "2021-01-13T02:30:47.075182Z",
          "iopub.status.idle": "2021-01-13T02:30:47.077608Z",
          "shell.execute_reply": "2021-01-13T02:30:47.078002Z"
        },
        "id": "MlICTG8spyO2",
        "colab": {
          "base_uri": "https://localhost:8080/"
        },
        "outputId": "ea38fb48-e3e6-4743-dbdb-cc1f1ff41d56"
      },
      "source": [
        "print(\"Label 0 corresponds to\", raw_train_ds.class_names[0])\n",
        "print(\"Label 1 corresponds to\", raw_train_ds.class_names[1])"
      ],
      "execution_count": 10,
      "outputs": [
        {
          "output_type": "stream",
          "text": [
            "Label 0 corresponds to neg\n",
            "Label 1 corresponds to pos\n"
          ],
          "name": "stdout"
        }
      ]
    },
    {
      "cell_type": "markdown",
      "metadata": {
        "id": "pbdO39vYqdJr"
      },
      "source": [
        "Next, you will create a validation and test dataset. You will use the remaining 5,000 reviews from the training set for validation."
      ]
    },
    {
      "cell_type": "markdown",
      "metadata": {
        "id": "SzxazN8Hq1pF"
      },
      "source": [
        "Note:  When using the `validation_split` and `subset` arguments, make sure to either specify a random seed, or to pass `shuffle=False`, so that the validation and training splits have no overlap."
      ]
    },
    {
      "cell_type": "code",
      "metadata": {
        "execution": {
          "iopub.execute_input": "2021-01-13T02:30:47.082376Z",
          "iopub.status.busy": "2021-01-13T02:30:47.081647Z",
          "iopub.status.idle": "2021-01-13T02:30:47.954537Z",
          "shell.execute_reply": "2021-01-13T02:30:47.953990Z"
        },
        "id": "JsMwwhOoqjKF",
        "colab": {
          "base_uri": "https://localhost:8080/"
        },
        "outputId": "f67bf2c0-5e7f-471e-fc60-3c94fb81aa0d"
      },
      "source": [
        "raw_val_ds = tf.keras.preprocessing.text_dataset_from_directory('aclImdb/train', batch_size=batch_size, validation_split=0.2, subset='validation', seed=seed)"
      ],
      "execution_count": 11,
      "outputs": [
        {
          "output_type": "stream",
          "text": [
            "Found 25000 files belonging to 2 classes.\n",
            "Using 5000 files for validation.\n"
          ],
          "name": "stdout"
        }
      ]
    },
    {
      "cell_type": "code",
      "metadata": {
        "execution": {
          "iopub.execute_input": "2021-01-13T02:30:47.958816Z",
          "iopub.status.busy": "2021-01-13T02:30:47.958146Z",
          "iopub.status.idle": "2021-01-13T02:30:48.925562Z",
          "shell.execute_reply": "2021-01-13T02:30:48.924930Z"
        },
        "id": "rdSr0Nt3q_ns",
        "colab": {
          "base_uri": "https://localhost:8080/"
        },
        "outputId": "98f2a1b6-8bc8-436f-a0fb-f47da9e045e7"
      },
      "source": [
        "raw_test_ds = tf.keras.preprocessing.text_dataset_from_directory('aclImdb/test', batch_size=batch_size)"
      ],
      "execution_count": 12,
      "outputs": [
        {
          "output_type": "stream",
          "text": [
            "Found 25000 files belonging to 2 classes.\n"
          ],
          "name": "stdout"
        }
      ]
    },
    {
      "cell_type": "markdown",
      "metadata": {
        "id": "kDA_Lu2PoGyP"
      },
      "source": [
        "Note: The Preprocessing APIs used in the following section are experimental in TensorFlow 2.3 and subject to change."
      ]
    },
    {
      "cell_type": "markdown",
      "metadata": {
        "id": "qJmTiO0IYAjm"
      },
      "source": [
        "### Prepare the dataset for training\n",
        "\n",
        "Next, you will standardize, tokenize, and vectorize the data using the helpful `preprocessing.TextVectorization` layer. \n",
        "\n",
        "Standardization refers to preprocessing the text, typically to remove punctuation or HTML elements to simplify the dataset. Tokenization refers to splitting strings into tokens (for example, splitting a sentence into individual words, by splitting on whitespace). Vectorization refers to converting tokens into numbers so they can be fed into a neural network. All of these tasks can be accomplished with this layer.\n",
        "\n",
        "As you saw above, the reviews contain various HTML tags like `<br />`. These tags will not be removed by the default standardizer in the `TextVectorization` layer (which converts text to lowercase and strips punctuation by default, but doesn't strip HTML). You will write a custom standardization function to remove the HTML."
      ]
    },
    {
      "cell_type": "markdown",
      "metadata": {
        "id": "ZVcHl-SLrH-u"
      },
      "source": [
        "Note: to prevent [train/test skew](https://developers.google.com/machine-learning/guides/rules-of-ml#training-serving_skew) (also know as train/serving skew), it is important to preprocess the data identically at train and test time. To facilitate this, the `TextVectorization` layer can be included directly inside your model, as shown later in this tutorial."
      ]
    },
    {
      "cell_type": "code",
      "metadata": {
        "execution": {
          "iopub.execute_input": "2021-01-13T02:30:48.931611Z",
          "iopub.status.busy": "2021-01-13T02:30:48.930531Z",
          "iopub.status.idle": "2021-01-13T02:30:48.933407Z",
          "shell.execute_reply": "2021-01-13T02:30:48.932696Z"
        },
        "id": "SDRI_s_tX1Hk"
      },
      "source": [
        "def custom_standardization(input_data):\n",
        "  lowercase = tf.strings.lower(input_data)\n",
        "  stripped_html = tf.strings.regex_replace(lowercase, '<br />', ' ')\n",
        "  return tf.strings.regex_replace(stripped_html,\n",
        "                                  '[%s]' % re.escape(string.punctuation),\n",
        "                                  '')"
      ],
      "execution_count": 13,
      "outputs": []
    },
    {
      "cell_type": "code",
      "metadata": {
        "colab": {
          "base_uri": "https://localhost:8080/"
        },
        "id": "L_qz70_b8R2L",
        "outputId": "2903ac1a-2d51-49ab-8d3f-18d82609b5f4"
      },
      "source": [
        "for text_data, labels in raw_train_ds.take(1):\n",
        "  for i in range(1):\n",
        "    print(text_data.numpy()[0])\n",
        "    tf.print(\"\\n\",custom_standardization(text_data.numpy()[0]))"
      ],
      "execution_count": 14,
      "outputs": [
        {
          "output_type": "stream",
          "text": [
            "b\"Having seen most of Ringo Lam's films, I can say that this is his best film to date, and the most unusual. It's a ancient china period piece cranked full of kick-ass martial arts, where the location of an underground lair full of traps and dungeons plays as big a part as any of the characters. The action is fantastic, the story is tense and entertaining, and the set design is truely memorable. Sadly, Burning Paradise has not been made available on DVD and vhs is next-to-impossible to get your mitts on, even if you near the second biggest china-town in North America (like I do). If you can find it, don't pass it up.\"\n",
            "\n",
            " \"having seen most of ringo lams films i can say that this is his best film to date and the most unusual its a ancient china period piece cranked full of kickass martial arts where the location of an underground lair full of traps and dungeons plays as big a part as any of the characters the action is fantastic the story is tense and entertaining and the set design is truely memorable sadly burning paradise has not been made available on dvd and vhs is nexttoimpossible to get your mitts on even if you near the second biggest chinatown in north america like i do if you can find it dont pass it up\"\n"
          ],
          "name": "stdout"
        }
      ]
    },
    {
      "cell_type": "markdown",
      "metadata": {
        "id": "d2d3Aw8dsUux"
      },
      "source": [
        "Next, you will create a `TextVectorization` layer. you will use this layer to standardize, tokenize, and vectorize our data. You set the `output_mode` to `int` to create unique integer indices for each token.\n",
        "\n",
        "Note that you're using the default split function, and the custom standardization function you defined above. You'll also define some constants for the model, like an explicit maximum `sequence_length`, which will cause the layer to pad or truncate sequences to exactly `sequence_length` values."
      ]
    },
    {
      "cell_type": "code",
      "metadata": {
        "execution": {
          "iopub.execute_input": "2021-01-13T02:30:48.938849Z",
          "iopub.status.busy": "2021-01-13T02:30:48.937796Z",
          "iopub.status.idle": "2021-01-13T02:30:48.965602Z",
          "shell.execute_reply": "2021-01-13T02:30:48.965098Z"
        },
        "id": "-c76RvSzsMnX"
      },
      "source": [
        "max_features = 10000\n",
        "sequence_length = 350\n",
        "\n",
        "vectorize_layer = TextVectorization(\n",
        "    standardize=custom_standardization,\n",
        "    max_tokens=max_features,\n",
        "    output_mode='int',\n",
        "    output_sequence_length=sequence_length)"
      ],
      "execution_count": 15,
      "outputs": []
    },
    {
      "cell_type": "markdown",
      "metadata": {
        "id": "vlFOpfF6scT6"
      },
      "source": [
        "Next, you will call `adapt` to fit the state of the preprocessing layer to the dataset. This will cause the model to build an index of strings to integers."
      ]
    },
    {
      "cell_type": "markdown",
      "metadata": {
        "id": "lAhdjK7AtroA"
      },
      "source": [
        "Note: it's important to only use your training data when calling adapt (using the test set would leak information)."
      ]
    },
    {
      "cell_type": "code",
      "metadata": {
        "execution": {
          "iopub.execute_input": "2021-01-13T02:30:48.971431Z",
          "iopub.status.busy": "2021-01-13T02:30:48.970421Z",
          "iopub.status.idle": "2021-01-13T02:30:52.564548Z",
          "shell.execute_reply": "2021-01-13T02:30:52.563881Z"
        },
        "id": "GH4_2ZGJsa_X"
      },
      "source": [
        "# Make a text-only dataset (without labels), then call adapt\n",
        "train_text = raw_train_ds.map(lambda x, y: x)\n",
        "vectorize_layer.adapt(train_text)"
      ],
      "execution_count": 16,
      "outputs": []
    },
    {
      "cell_type": "markdown",
      "metadata": {
        "id": "SHQVEFzNt-K_"
      },
      "source": [
        "Let's create a function to see the result of using this layer to preprocess some data."
      ]
    },
    {
      "cell_type": "code",
      "metadata": {
        "execution": {
          "iopub.execute_input": "2021-01-13T02:30:52.569608Z",
          "iopub.status.busy": "2021-01-13T02:30:52.568859Z",
          "iopub.status.idle": "2021-01-13T02:30:52.570743Z",
          "shell.execute_reply": "2021-01-13T02:30:52.571163Z"
        },
        "id": "SCIg_T50wOCU"
      },
      "source": [
        "def vectorize_text(text, label):\n",
        "  text = tf.expand_dims(text, -1) ##A negative axis counts from the end so axis=-1 adds an inner most dimension\n",
        "  return vectorize_layer(text), label"
      ],
      "execution_count": 17,
      "outputs": []
    },
    {
      "cell_type": "code",
      "metadata": {
        "colab": {
          "base_uri": "https://localhost:8080/"
        },
        "id": "rjljGb8lAJGQ",
        "outputId": "d56b9483-1d4a-4261-d15d-b98e2e88c19d"
      },
      "source": [
        "text_batch,label_batch = next(iter(raw_train_ds))\n",
        "random_review, random_label = text_batch[10], label_batch[10]\n",
        "tf.print(\"Review:\", random_review)\n",
        "print(\"Label: \", raw_train_ds.class_names[random_label])\n",
        "print(\"Vectorized review:\", vectorize_text(random_review,random_label))"
      ],
      "execution_count": 18,
      "outputs": [
        {
          "output_type": "stream",
          "text": [
            "Review: \"Sometimes laughter in the middle of a horror film is a signal of its greatness. I remember the nervous laughter from the audience in the re-release of The Excorcist really nervous laughter. It punctuated just how freaked out we all were watching the voice of Satan coming out of a 12 year old girl. In the case of the 2006 remake of the 1972 cult classic The Wicker Man however, it made me think that this new Wickerman is about as scary as the South Park character, Scuzzlebut, the friendly forest monster with TV\\'s Patrick Duffy for a leg and a celery stalk for an arm who\\'s favorite hobby is weaving wicker baskets.<br /><br />3 years ago a friend of mine in Hollywood told me that he heard that Nicolas Cage was going to do a remake of the film. I started laughing and my friend (Keith) got mad at me touting Nicolas Cage as a great actor. I just didn\\'t think that he could pull it off and unfortunately for moviegoers I was right. Gone is the realness, the outstanding original music, the originality, the creepiness and the wonderfully powerful dialogue. Instead we have horror movie clichés, affected acting and changes to the storyline that make any believability fall apart. Like many of the countless Hollywood remakes we have been inundated with lately this feels like we are watching 4th graders on a playground \\\"playing Wickerman\\\".<br /><br />The original film takes place on a remote Scottish Isle where a Scottish police officer is lured there to find a missing young girl named Rowan Morrison. In the new spin a California cop (Cage) is lured to an island of the coast of Washington state by his ex-girlfriend to find her missing daughter. She sends a photo and the missing daughter looks exactly like a young girl he tried to save in a fiery crash not long ago. The crash still haunts him in part because the girl\\'s body was never found. Yet even after he gets a letter with her picture in it that connection is completely cast aside as he heads north, alone, to help his ex-girlfriend find her daughter. He arrives to find an island full of actors pretending to be the descendants of Wiccans, many of whom seem like they didn\\'t get call backs for roles in The Village. And like The Village it isn\\'t long before you realize there is nothing to be afraid of here. Not even the cloudy eyed blind sisters who speak in unison.<br /><br />I think that the opportunity in Hollywood to make great amounts of money on a film often comes at great expense to the artistry. I think someone like Nicolas Cage who is in so many films these days loses touch with the magic that film can be when it gets to the point where he has a personal chef on the set preparing his snacks. We needed a bad re-make of the Wickerman like we needed yet another \\'9-11\\' movie. I\\'m starting to wonder if Nicolas changed his surname from Coppola because he wanted to or because he was pleaded with to do so.\"\n",
            "Label:  neg\n",
            "Vectorized review: (<tf.Tensor: shape=(1, 350), dtype=int64, numpy=\n",
            "array([[ 517, 2040,    8,    2,  779,    5,    4,  191,   19,    7,    4,\n",
            "           1,    5,   29, 4989,   10,  366,    2, 4329, 2040,   35,    2,\n",
            "         305,    8,    2,    1,    5,    2,    1,   62, 4329, 2040,    9,\n",
            "           1,   40,   87, 9342,   44,   71,   30,   65,  146,    2,  572,\n",
            "           5, 4144,  574,   44,    5,    4, 1105,  336,  161,  247,    8,\n",
            "           2,  401,    5,    2, 2881,  958,    5,    2, 4312, 1204,  352,\n",
            "           2,    1,  130,  189,    9,   90,   69,  102,   12,   11,  156,\n",
            "           1,    7,   42,   14,  621,   14,    2, 1178, 1551,  106,    1,\n",
            "           2, 2707, 2527,  982,   16, 6461, 2107,    1,   15,    4, 3768,\n",
            "           3,    4,    1,    1,   15,   33, 3291,  841,  500,    1,    7,\n",
            "           1,    1,    1,  452,  149,  589,    4,  469,    5, 1981,    8,\n",
            "         354,  561,   69,   12,   27,  548,   12, 5441, 1846,   13,  168,\n",
            "           6,   82,    4,  958,    5,    2,   19,   10,  606, 1072,    3,\n",
            "          54,  469, 4985,  184, 1084,   31,   69,    1, 5441, 1846,   14,\n",
            "           4,   86,  285,   10,   40,  152,  102,   12,   27,   98, 1567,\n",
            "           9,  127,    3,  460,   15, 7353,   10,   13,  205,  812,    7,\n",
            "           2,    1,    2, 1272,  198,  222,    2, 2889,    2,    1,    3,\n",
            "           2, 1607,  974,  399,  291,   71,   25,  191,   17, 1713, 3685,\n",
            "         109,    3, 1395,    6,    2,  737,   12,   96,   97, 8527,  759,\n",
            "         948,   38,  107,    5,    2, 3359,  354, 4706,   71,   25,   74,\n",
            "           1,   16, 4043,   11,  738,   38,   71,   23,  146, 6667,    1,\n",
            "          20,    4,    1,  385,    1,    2,  198,   19,  294,  265,   20,\n",
            "           4, 2986, 4408,    1,  114,    4, 4408,  559, 1889,    7,    1,\n",
            "          47,    6,  163,    4,  962,  181,  247,  761,    1,    1,    8,\n",
            "           2,  156, 3620,    4, 2592, 1021, 1846,    7,    1,    6,   33,\n",
            "        1053,    5,    2, 4848,    5, 1866, 1129,   32,   24, 9353,    6,\n",
            "         163,   39,  962,  567,   55, 3298,    4, 5183,    3,    2,  962,\n",
            "         567,  262,  604,   38,    4,  181,  247,   27,  770,    6,  586,\n",
            "           8,    4, 8286, 2605,   21,  209,  589,    2, 2605,  125,    1,\n",
            "          85,    8,  170,   84,    2,  478,  643,   13,  110,  251,  240,\n",
            "          53,  101,   27,  201,    4, 3350,   16,   39,  430,    8,    9,\n",
            "          12, 1891,    7,  334,  173, 1180,   14,   27, 1831]])>, <tf.Tensor: shape=(), dtype=int32, numpy=0>)\n"
          ],
          "name": "stdout"
        }
      ]
    },
    {
      "cell_type": "markdown",
      "metadata": {
        "id": "6u5EX0hxyNZT"
      },
      "source": [
        "As you can see above, each token has been replaced by an integer. You can lookup the token (string) that each integer corresponds to by calling `.get_vocabulary()` on the layer."
      ]
    },
    {
      "cell_type": "code",
      "metadata": {
        "execution": {
          "iopub.execute_input": "2021-01-13T02:30:52.609417Z",
          "iopub.status.busy": "2021-01-13T02:30:52.608756Z",
          "iopub.status.idle": "2021-01-13T02:30:52.647050Z",
          "shell.execute_reply": "2021-01-13T02:30:52.646521Z"
        },
        "id": "kRq9hTQzhVhW",
        "colab": {
          "base_uri": "https://localhost:8080/"
        },
        "outputId": "a7b9f0e6-e7ba-4c2f-96f2-64a6513c104d"
      },
      "source": [
        "print(\"1287 ---> \",vectorize_layer.get_vocabulary()[1287])\n",
        "print(\" 313 ---> \",vectorize_layer.get_vocabulary()[313])\n",
        "print('Vocabulary size: {}'.format(len(vectorize_layer.get_vocabulary())))"
      ],
      "execution_count": 19,
      "outputs": [
        {
          "output_type": "stream",
          "text": [
            "1287 --->  silent\n",
            " 313 --->  night\n",
            "Vocabulary size: 10000\n"
          ],
          "name": "stdout"
        }
      ]
    },
    {
      "cell_type": "markdown",
      "metadata": {
        "id": "XD2H6utRydGv"
      },
      "source": [
        "You are nearly ready to train your model. As a final preprocessing step, you will apply the TextVectorization layer you created earlier to the train, validation, and test dataset."
      ]
    },
    {
      "cell_type": "code",
      "metadata": {
        "execution": {
          "iopub.execute_input": "2021-01-13T02:30:52.652613Z",
          "iopub.status.busy": "2021-01-13T02:30:52.651875Z",
          "iopub.status.idle": "2021-01-13T02:30:52.812471Z",
          "shell.execute_reply": "2021-01-13T02:30:52.811770Z"
        },
        "id": "2zhmpeViI1iG"
      },
      "source": [
        "train_ds = raw_train_ds.map(vectorize_text)\n",
        "val_ds = raw_val_ds.map(vectorize_text)\n",
        "test_ds = raw_test_ds.map(vectorize_text)"
      ],
      "execution_count": 20,
      "outputs": []
    },
    {
      "cell_type": "markdown",
      "metadata": {
        "id": "YsVQyPMizjuO"
      },
      "source": [
        "### Configure the dataset for performance\n",
        "\n",
        "These are two important methods you should use when loading data to make sure that I/O does not become blocking.\n",
        "\n",
        "`.cache()` keeps data in memory after it's loaded off disk. This will ensure the dataset does not become a bottleneck while training your model. If your dataset is too large to fit into memory, you can also use this method to create a performant on-disk cache, which is more efficient to read than many small files.\n",
        "\n",
        "`.prefetch()` overlaps data preprocessing and model execution while training. \n",
        "\n",
        "You can learn more about both methods, as well as how to cache data to disk in the [data performance guide](https://www.tensorflow.org/guide/data_performance)."
      ]
    },
    {
      "cell_type": "code",
      "metadata": {
        "execution": {
          "iopub.execute_input": "2021-01-13T02:30:52.817488Z",
          "iopub.status.busy": "2021-01-13T02:30:52.816794Z",
          "iopub.status.idle": "2021-01-13T02:30:52.820744Z",
          "shell.execute_reply": "2021-01-13T02:30:52.820237Z"
        },
        "id": "wMcs_H7izm5m"
      },
      "source": [
        "AUTOTUNE = tf.data.AUTOTUNE\n",
        "\n",
        "train_ds = train_ds.cache().prefetch(buffer_size=AUTOTUNE)\n",
        "val_ds = val_ds.cache().prefetch(buffer_size=AUTOTUNE)\n",
        "test_ds = test_ds.cache().prefetch(buffer_size=AUTOTUNE)"
      ],
      "execution_count": 21,
      "outputs": []
    },
    {
      "cell_type": "markdown",
      "metadata": {
        "id": "LLC02j2g-llC"
      },
      "source": [
        "### Create the model\n",
        "\n",
        "It's time to create our neural network:"
      ]
    },
    {
      "cell_type": "code",
      "metadata": {
        "execution": {
          "iopub.execute_input": "2021-01-13T02:30:52.824603Z",
          "iopub.status.busy": "2021-01-13T02:30:52.823922Z",
          "iopub.status.idle": "2021-01-13T02:30:52.826339Z",
          "shell.execute_reply": "2021-01-13T02:30:52.825750Z"
        },
        "id": "dkQP6in8yUBR"
      },
      "source": [
        "embedding_dim = 16"
      ],
      "execution_count": 22,
      "outputs": []
    },
    {
      "cell_type": "code",
      "metadata": {
        "execution": {
          "iopub.execute_input": "2021-01-13T02:30:52.844649Z",
          "iopub.status.busy": "2021-01-13T02:30:52.843996Z",
          "iopub.status.idle": "2021-01-13T02:30:52.873351Z",
          "shell.execute_reply": "2021-01-13T02:30:52.872847Z"
        },
        "id": "xpKOoWgu-llD",
        "colab": {
          "base_uri": "https://localhost:8080/"
        },
        "outputId": "c58b5e71-abc5-44a9-c83f-3c138fd893cf"
      },
      "source": [
        "model = tf.keras.Sequential([\n",
        "  layers.Embedding(max_features + 1, embedding_dim),\n",
        "  layers.Dropout(0.2),\n",
        "  layers.GlobalAveragePooling1D(),\n",
        "  layers.Dropout(0.2),\n",
        "  layers.Dense(1)])\n",
        "\n",
        "model.summary()"
      ],
      "execution_count": 23,
      "outputs": [
        {
          "output_type": "stream",
          "text": [
            "Model: \"sequential\"\n",
            "_________________________________________________________________\n",
            "Layer (type)                 Output Shape              Param #   \n",
            "=================================================================\n",
            "embedding (Embedding)        (None, None, 16)          160016    \n",
            "_________________________________________________________________\n",
            "dropout (Dropout)            (None, None, 16)          0         \n",
            "_________________________________________________________________\n",
            "global_average_pooling1d (Gl (None, 16)                0         \n",
            "_________________________________________________________________\n",
            "dropout_1 (Dropout)          (None, 16)                0         \n",
            "_________________________________________________________________\n",
            "dense (Dense)                (None, 1)                 17        \n",
            "=================================================================\n",
            "Total params: 160,033\n",
            "Trainable params: 160,033\n",
            "Non-trainable params: 0\n",
            "_________________________________________________________________\n"
          ],
          "name": "stdout"
        }
      ]
    },
    {
      "cell_type": "markdown",
      "metadata": {
        "id": "6PbKQ6mucuKL"
      },
      "source": [
        "The layers are stacked sequentially to build the classifier:\n",
        "\n",
        "1. The first layer is an `Embedding` layer. This layer takes the integer-encoded reviews and looks up an embedding vector for each word-index. These vectors are learned as the model trains. The vectors add a dimension to the output array. The resulting dimensions are: `(batch, sequence, embedding)`.  To learn more about embeddings, see the [word embedding tutorial](../text/word_embeddings.ipynb).\n",
        "2. Next, a `GlobalAveragePooling1D` layer returns a fixed-length output vector for each example by averaging over the sequence dimension. This allows the model to handle input of variable length, in the simplest way possible.\n",
        "3. This fixed-length output vector is piped through a fully-connected (`Dense`) layer with 16 hidden units. \n",
        "4. The last layer is densely connected with a single output node."
      ]
    },
    {
      "cell_type": "markdown",
      "metadata": {
        "id": "L4EqVWg4-llM"
      },
      "source": [
        "### Loss function and optimizer\n",
        "\n",
        "A model needs a loss function and an optimizer for training. Since this is a binary classification problem and the model outputs a probability (a single-unit layer with a sigmoid activation), you'll use `losses.BinaryCrossentropy` loss function.\n",
        "\n",
        "Now, configure the model to use an optimizer and a loss function:"
      ]
    },
    {
      "cell_type": "code",
      "metadata": {
        "execution": {
          "iopub.execute_input": "2021-01-13T02:30:52.885240Z",
          "iopub.status.busy": "2021-01-13T02:30:52.884590Z",
          "iopub.status.idle": "2021-01-13T02:30:52.902283Z",
          "shell.execute_reply": "2021-01-13T02:30:52.902677Z"
        },
        "id": "Mr0GP-cQ-llN"
      },
      "source": [
        "model.compile(loss=losses.BinaryCrossentropy(from_logits=True),\n",
        "              optimizer='adam',\n",
        "              metrics=tf.metrics.BinaryAccuracy(threshold=0.0))"
      ],
      "execution_count": 24,
      "outputs": []
    },
    {
      "cell_type": "markdown",
      "metadata": {
        "id": "35jv_fzP-llU"
      },
      "source": [
        "### Train the model\n",
        "\n",
        "You will train the model by passing the `dataset` object to the fit method."
      ]
    },
    {
      "cell_type": "code",
      "metadata": {
        "execution": {
          "iopub.execute_input": "2021-01-13T02:30:52.907064Z",
          "iopub.status.busy": "2021-01-13T02:30:52.906383Z",
          "iopub.status.idle": "2021-01-13T02:31:22.590197Z",
          "shell.execute_reply": "2021-01-13T02:31:22.589595Z"
        },
        "id": "tXSGrjWZ-llW",
        "colab": {
          "base_uri": "https://localhost:8080/"
        },
        "outputId": "ba4ac37a-b891-4fea-f690-5914e70bdd43"
      },
      "source": [
        "epochs = 20\n",
        "history = model.fit(\n",
        "    train_ds,\n",
        "    validation_data=val_ds,\n",
        "    epochs=epochs)"
      ],
      "execution_count": 29,
      "outputs": [
        {
          "output_type": "stream",
          "text": [
            "Epoch 1/20\n",
            "313/313 [==============================] - 2s 6ms/step - loss: 0.2930 - binary_accuracy: 0.8989 - val_loss: 0.3237 - val_binary_accuracy: 0.8764\n",
            "Epoch 2/20\n",
            "313/313 [==============================] - 2s 6ms/step - loss: 0.2805 - binary_accuracy: 0.9025 - val_loss: 0.3151 - val_binary_accuracy: 0.8774\n",
            "Epoch 3/20\n",
            "313/313 [==============================] - 2s 6ms/step - loss: 0.2674 - binary_accuracy: 0.9056 - val_loss: 0.3079 - val_binary_accuracy: 0.8800\n",
            "Epoch 4/20\n",
            "313/313 [==============================] - 2s 6ms/step - loss: 0.2569 - binary_accuracy: 0.9093 - val_loss: 0.3019 - val_binary_accuracy: 0.8786\n",
            "Epoch 5/20\n",
            "313/313 [==============================] - 2s 6ms/step - loss: 0.2472 - binary_accuracy: 0.9127 - val_loss: 0.2966 - val_binary_accuracy: 0.8814\n",
            "Epoch 6/20\n",
            "313/313 [==============================] - 2s 5ms/step - loss: 0.2375 - binary_accuracy: 0.9171 - val_loss: 0.2926 - val_binary_accuracy: 0.8816\n",
            "Epoch 7/20\n",
            "313/313 [==============================] - 2s 5ms/step - loss: 0.2290 - binary_accuracy: 0.9199 - val_loss: 0.2891 - val_binary_accuracy: 0.8834\n",
            "Epoch 8/20\n",
            "313/313 [==============================] - 2s 5ms/step - loss: 0.2217 - binary_accuracy: 0.9240 - val_loss: 0.2858 - val_binary_accuracy: 0.8842\n",
            "Epoch 9/20\n",
            "313/313 [==============================] - 2s 5ms/step - loss: 0.2143 - binary_accuracy: 0.9269 - val_loss: 0.2837 - val_binary_accuracy: 0.8846\n",
            "Epoch 10/20\n",
            "313/313 [==============================] - 2s 6ms/step - loss: 0.2082 - binary_accuracy: 0.9284 - val_loss: 0.2815 - val_binary_accuracy: 0.8864\n",
            "Epoch 11/20\n",
            "313/313 [==============================] - 2s 6ms/step - loss: 0.2004 - binary_accuracy: 0.9319 - val_loss: 0.2801 - val_binary_accuracy: 0.8868\n",
            "Epoch 12/20\n",
            "313/313 [==============================] - 2s 5ms/step - loss: 0.1942 - binary_accuracy: 0.9352 - val_loss: 0.2790 - val_binary_accuracy: 0.8876\n",
            "Epoch 13/20\n",
            "313/313 [==============================] - 2s 6ms/step - loss: 0.1886 - binary_accuracy: 0.9354 - val_loss: 0.2783 - val_binary_accuracy: 0.8888\n",
            "Epoch 14/20\n",
            "313/313 [==============================] - 2s 6ms/step - loss: 0.1837 - binary_accuracy: 0.9380 - val_loss: 0.2778 - val_binary_accuracy: 0.8892\n",
            "Epoch 15/20\n",
            "313/313 [==============================] - 2s 6ms/step - loss: 0.1779 - binary_accuracy: 0.9391 - val_loss: 0.2774 - val_binary_accuracy: 0.8904\n",
            "Epoch 16/20\n",
            "313/313 [==============================] - 2s 5ms/step - loss: 0.1715 - binary_accuracy: 0.9431 - val_loss: 0.2776 - val_binary_accuracy: 0.8906\n",
            "Epoch 17/20\n",
            "313/313 [==============================] - 2s 5ms/step - loss: 0.1682 - binary_accuracy: 0.9445 - val_loss: 0.2779 - val_binary_accuracy: 0.8910\n",
            "Epoch 18/20\n",
            "313/313 [==============================] - 2s 6ms/step - loss: 0.1621 - binary_accuracy: 0.9462 - val_loss: 0.2785 - val_binary_accuracy: 0.8914\n",
            "Epoch 19/20\n",
            "313/313 [==============================] - 2s 5ms/step - loss: 0.1581 - binary_accuracy: 0.9482 - val_loss: 0.2792 - val_binary_accuracy: 0.8904\n",
            "Epoch 20/20\n",
            "313/313 [==============================] - 2s 6ms/step - loss: 0.1537 - binary_accuracy: 0.9499 - val_loss: 0.2803 - val_binary_accuracy: 0.8904\n"
          ],
          "name": "stdout"
        }
      ]
    },
    {
      "cell_type": "markdown",
      "metadata": {
        "id": "9EEGuDVuzb5r"
      },
      "source": [
        "### Evaluate the model\n",
        "\n",
        "Let's see how the model performs. Two values will be returned. Loss (a number which represents our error, lower values are better), and accuracy."
      ]
    },
    {
      "cell_type": "code",
      "metadata": {
        "execution": {
          "iopub.execute_input": "2021-01-13T02:31:22.595286Z",
          "iopub.status.busy": "2021-01-13T02:31:22.594592Z",
          "iopub.status.idle": "2021-01-13T02:31:25.705568Z",
          "shell.execute_reply": "2021-01-13T02:31:25.706017Z"
        },
        "id": "zOMKywn4zReN",
        "colab": {
          "base_uri": "https://localhost:8080/"
        },
        "outputId": "a6cb05c3-107e-47b9-9392-c7129ba19955"
      },
      "source": [
        "loss, accuracy = model.evaluate(test_ds)\n",
        "\n",
        "print(\"Loss: \", loss)\n",
        "print(\"Accuracy: \", accuracy)"
      ],
      "execution_count": 30,
      "outputs": [
        {
          "output_type": "stream",
          "text": [
            "391/391 [==============================] - 1s 2ms/step - loss: 0.2964 - binary_accuracy: 0.8831\n",
            "Loss:  0.2964407801628113\n",
            "Accuracy:  0.8831200003623962\n"
          ],
          "name": "stdout"
        }
      ]
    },
    {
      "cell_type": "markdown",
      "metadata": {
        "id": "z1iEXVTR0Z2t"
      },
      "source": [
        "This fairly naive approach achieves an accuracy of about 86%."
      ]
    },
    {
      "cell_type": "markdown",
      "metadata": {
        "id": "ldbQqCw2Xc1W"
      },
      "source": [
        "### Create a plot of accuracy and loss over time\n",
        "\n",
        "`model.fit()` returns a `History` object that contains a dictionary with everything that happened during training:"
      ]
    },
    {
      "cell_type": "code",
      "metadata": {
        "execution": {
          "iopub.execute_input": "2021-01-13T02:31:25.710884Z",
          "iopub.status.busy": "2021-01-13T02:31:25.710137Z",
          "iopub.status.idle": "2021-01-13T02:31:25.713288Z",
          "shell.execute_reply": "2021-01-13T02:31:25.712752Z"
        },
        "id": "-YcvZsdvWfDf",
        "colab": {
          "base_uri": "https://localhost:8080/"
        },
        "outputId": "682db4e5-637d-4df4-dcae-61acf4e3922e"
      },
      "source": [
        "history_dict = history.history\n",
        "history_dict.keys()"
      ],
      "execution_count": 31,
      "outputs": [
        {
          "output_type": "execute_result",
          "data": {
            "text/plain": [
              "dict_keys(['loss', 'binary_accuracy', 'val_loss', 'val_binary_accuracy'])"
            ]
          },
          "metadata": {
            "tags": []
          },
          "execution_count": 31
        }
      ]
    },
    {
      "cell_type": "markdown",
      "metadata": {
        "id": "1_CH32qJXruI"
      },
      "source": [
        "There are four entries: one for each monitored metric during training and validation. You can use these to plot the training and validation loss for comparison, as well as the training and validation accuracy:"
      ]
    },
    {
      "cell_type": "code",
      "metadata": {
        "execution": {
          "iopub.execute_input": "2021-01-13T02:31:25.734832Z",
          "iopub.status.busy": "2021-01-13T02:31:25.734071Z",
          "iopub.status.idle": "2021-01-13T02:31:25.879609Z",
          "shell.execute_reply": "2021-01-13T02:31:25.880102Z"
        },
        "id": "2SEMeQ5YXs8z",
        "colab": {
          "base_uri": "https://localhost:8080/",
          "height": 295
        },
        "outputId": "217caf54-d4d1-4c4f-8d26-78952aa119d5"
      },
      "source": [
        "acc = history_dict['binary_accuracy']\n",
        "val_acc = history_dict['val_binary_accuracy']\n",
        "loss = history_dict['loss']\n",
        "val_loss = history_dict['val_loss']\n",
        "\n",
        "epochs = range(1, len(acc) + 1)\n",
        "\n",
        "# \"bo\" is for \"blue dot\"\n",
        "plt.plot(epochs, loss, 'bo', label='Training loss')\n",
        "# b is for \"solid blue line\"\n",
        "plt.plot(epochs, val_loss, 'b', label='Validation loss')\n",
        "plt.title('Training and validation loss')\n",
        "plt.xlabel('Epochs')\n",
        "plt.ylabel('Loss')\n",
        "plt.legend()\n",
        "\n",
        "plt.show()"
      ],
      "execution_count": 32,
      "outputs": [
        {
          "output_type": "display_data",
          "data": {
            "image/png": "[encoded data removed]",
            "text/plain": [
              "<Figure size 432x288 with 1 Axes>"
            ]
          },
          "metadata": {
            "tags": [],
            "needs_background": "light"
          }
        }
      ]
    },
    {
      "cell_type": "code",
      "metadata": {
        "execution": {
          "iopub.execute_input": "2021-01-13T02:31:25.900079Z",
          "iopub.status.busy": "2021-01-13T02:31:25.898143Z",
          "iopub.status.idle": "2021-01-13T02:31:26.031690Z",
          "shell.execute_reply": "2021-01-13T02:31:26.031137Z"
        },
        "id": "Z3PJemLPXwz_",
        "colab": {
          "base_uri": "https://localhost:8080/",
          "height": 295
        },
        "outputId": "981c1ec2-946a-4319-ed0b-d5a54c877877"
      },
      "source": [
        "plt.plot(epochs, acc, 'bo', label='Training acc')\n",
        "plt.plot(epochs, val_acc, 'b', label='Validation acc')\n",
        "plt.title('Training and validation accuracy')\n",
        "plt.xlabel('Epochs')\n",
        "plt.ylabel('Accuracy')\n",
        "plt.legend(loc='lower right')\n",
        "\n",
        "plt.show()"
      ],
      "execution_count": 33,
      "outputs": [
        {
          "output_type": "display_data",
          "data": {
            "image/png": "[encoded data removed]",
            "text/plain": [
              "<Figure size 432x288 with 1 Axes>"
            ]
          },
          "metadata": {
            "tags": [],
            "needs_background": "light"
          }
        }
      ]
    },
    {
      "cell_type": "markdown",
      "metadata": {
        "id": "hFFyCuJoXy7r"
      },
      "source": [
        "In this plot, the dots represent the training loss and accuracy, and the solid lines are the validation loss and accuracy.\n",
        "\n",
        "Notice the training loss *decreases* with each epoch and the training accuracy *increases* with each epoch. This is expected when using a gradient descent optimization—it should minimize the desired quantity on every iteration.\n",
        "\n",
        "This isn't the case for the validation loss and accuracy—they seem to peak before the training accuracy. This is an example of overfitting: the model performs better on the training data than it does on data it has never seen before. After this point, the model over-optimizes and learns representations *specific* to the training data that do not *generalize* to test data.\n",
        "\n",
        "For this particular case, you could prevent overfitting by simply stopping the training when the validation accuracy is no longer increasing. One way to do so is to use the `tf.keras.callbacks.EarlyStopping` callback."
      ]
    },
    {
      "cell_type": "markdown",
      "metadata": {
        "id": "-to23J3Vy5d3"
      },
      "source": [
        "## Export the model\n",
        "\n",
        "In the code above, you applied the `TextVectorization` layer to the dataset before feeding text to the model. If you want to make your model capable of processing raw strings (for example, to simplify deploying it), you can include the `TextVectorization` layer inside your model. To do so, you can create a new model using the weights you just trained."
      ]
    },
    {
      "cell_type": "code",
      "metadata": {
        "execution": {
          "iopub.execute_input": "2021-01-13T02:31:26.039872Z",
          "iopub.status.busy": "2021-01-13T02:31:26.039215Z",
          "iopub.status.idle": "2021-01-13T02:31:30.582339Z",
          "shell.execute_reply": "2021-01-13T02:31:30.582748Z"
        },
        "id": "FWXsMvryuZuq",
        "colab": {
          "base_uri": "https://localhost:8080/"
        },
        "outputId": "cf63bd23-aca6-499d-c9b5-4a63a432486c"
      },
      "source": [
        "export_model = tf.keras.Sequential([\n",
        "  vectorize_layer,\n",
        "  model,\n",
        "  layers.Activation('sigmoid')\n",
        "])\n",
        "\n",
        "export_model.compile(\n",
        "    loss=losses.BinaryCrossentropy(from_logits=False), optimizer=\"adam\", metrics=['accuracy']\n",
        ")\n",
        "\n",
        "# Test it with `raw_test_ds`, which yields raw strings\n",
        "loss, accuracy = export_model.evaluate(raw_test_ds)\n",
        "print(accuracy)"
      ],
      "execution_count": 34,
      "outputs": [
        {
          "output_type": "stream",
          "text": [
            "391/391 [==============================] - 8s 19ms/step - loss: 0.3020 - accuracy: 0.8828\n",
            "0.8831200003623962\n"
          ],
          "name": "stdout"
        }
      ]
    },
    {
      "cell_type": "markdown",
      "metadata": {
        "id": "TwQgoN88LoEF"
      },
      "source": [
        "### Inference on new data\n",
        "\n",
        "To get predictions for new examples, you can simply call `model.predict()`."
      ]
    },
    {
      "cell_type": "code",
      "metadata": {
        "execution": {
          "iopub.execute_input": "2021-01-13T02:31:30.587442Z",
          "iopub.status.busy": "2021-01-13T02:31:30.586694Z",
          "iopub.status.idle": "2021-01-13T02:31:30.769022Z",
          "shell.execute_reply": "2021-01-13T02:31:30.768384Z"
        },
        "id": "QW355HH5L49K",
        "colab": {
          "base_uri": "https://localhost:8080/"
        },
        "outputId": "c18aebab-b823-4fb9-9a41-3e8a820aeffb"
      },
      "source": [
        "examples = [\n",
        "  \"The movie was great!\",\n",
        "  \"The movie was okay.\",\n",
        "  \"The movie was terrible...\"\n",
        "]\n",
        "\n",
        "export_model.predict(examples)"
      ],
      "execution_count": 35,
      "outputs": [
        {
          "output_type": "execute_result",
          "data": {
            "text/plain": [
              "array([[0.6444008 ],\n",
              "       [0.40028134],\n",
              "       [0.3257616 ]], dtype=float32)"
            ]
          },
          "metadata": {
            "tags": []
          },
          "execution_count": 35
        }
      ]
    },
    {
      "cell_type": "markdown",
      "metadata": {
        "id": "MaxlpFWpzR6c"
      },
      "source": [
        "Including the text preprocessing logic inside your model enables you to export a model for production that simplifies deployment, and reduces the potential for [train/test skew](https://developers.google.com/machine-learning/guides/rules-of-ml#training-serving_skew).\n",
        "\n",
        "There is a performance difference to keep in mind when choosing where to apply your TextVectorization layer. Using it outside of your model enables you to do asynchronous CPU processing and buffering of your data when training on GPU. So, if you're training your model on the GPU, you probably want to go with this option to get the best performance while developing your model, then switch to including the TextVectorization layer inside your model when you're ready to prepare for deployment.\n",
        "\n",
        "Visit this [tutorial](https://www.tensorflow.org/tutorials/keras/save_and_load) to learn more about saving models."
      ]
    },
    {
      "cell_type": "markdown",
      "metadata": {
        "id": "eSSuci_6nCEG"
      },
      "source": [
        "## Exercise: multiclass classification on Stack Overflow questions\n",
        "\n",
        "This tutorial showed how to train a binary classifier from scratch on the IMDB dataset. As an exercise, you can modify this notebook to train a multiclass classifier to predict the tag of a programming question on [Stack Overflow](http://stackoverflow.com/).\n",
        "\n",
        "We have prepared a [dataset](http://storage.googleapis.com/download.tensorflow.org/data/stack_overflow_16k.tar.gz) for you to use containing the body of several thousand programming questions (for example, \"How can sort a dictionary by value in Python?\") posted to Stack Overflow. Each of these is labeled with exactly one tag (either Python, CSharp, JavaScript, or Java). Your task is to take a question as input, and predict the appropriate tag, in this case, Python. \n",
        "\n",
        "The dataset you will work with contains several thousand questions extracted from the much larger public Stack Overflow dataset on [BigQuery](https://console.cloud.google.com/marketplace/details/stack-exchange/stack-overflow), which contains more than 17 million posts.\n",
        "\n",
        "After downloading the dataset, you will find it has a similar directory structure to the IMDB dataset you worked with previously:\n",
        "\n",
        "```\n",
        "train/\n",
        "...python/\n",
        "......0.txt\n",
        "......1.txt\n",
        "...javascript/\n",
        "......0.txt\n",
        "......1.txt\n",
        "...csharp/\n",
        "......0.txt\n",
        "......1.txt\n",
        "...java/\n",
        "......0.txt\n",
        "......1.txt\n",
        "```\n",
        "\n",
        "Note: to increase the difficulty of the classification problem, we have replaced any occurences of the words Python, CSharp, JavaScript, or Java in the programming questions with the word *blank* (as many questions contain the language they're about). \n",
        "\n",
        "To complete this exercise, you should modify this notebook to work with the Stack Overflow dataset by making the following modifications:\n",
        "\n",
        "1. At the top of your notebook, update the code that downloads the IMDB dataset with code to download the [Stack Overflow dataset](http://storage.googleapis.com/download.tensorflow.org/data/stack_overflow_16k.tar.gz) we have prepreared. As the Stack Overflow dataset has a similar directory structure, you will not need to make many modifications. \n",
        "\n",
        "1. Modify the last layer of your model to read `Dense(4)`, as there are now four output classes.\n",
        "\n",
        "1. When you compile your model, change the loss to `losses.SparseCategoricalCrossentropy`. This is the correct loss function to use for a multiclass classification problem, when the labels for each class are integers (in our case, they can be 0, *1*, *2*, or *3*).\n",
        "\n",
        "1. Once these changes are complete, you will be able to train a multiclass classifier. \n",
        "\n",
        "If you get stuck, you can find a solution [here](https://github.com/tensorflow/examples/blob/master/community/en/text_classification_solution.ipynb).\n"
      ]
    },
    {
      "cell_type": "markdown",
      "metadata": {
        "id": "F0T5SIwSm7uc"
      },
      "source": [
        "## Learning more\n",
        "\n",
        "This tutorial introduced text classification from scratch. To learn more about the text classification workflow in general, we recommend reading [this guide](https://developers.google.com/machine-learning/guides/text-classification/) from Google Developers.\n"
      ]
    }
  ]
}